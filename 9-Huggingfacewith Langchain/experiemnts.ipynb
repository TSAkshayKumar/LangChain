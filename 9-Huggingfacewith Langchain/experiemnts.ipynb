{
 "cells": [
  {
   "cell_type": "markdown",
   "metadata": {},
   "source": [
    "### Hugging Face x LangChain : A new partner package in LangChain\n",
    "langchain_huggingface, a partner package in LangChain jointly maintained by Hugging Face and LangChain. This new Python package is designed to bring the power of the latest development of Hugging Face into LangChain and keep it up to date."
   ]
  },
  {
   "cell_type": "code",
   "execution_count": null,
   "metadata": {},
   "outputs": [],
   "source": [
    "!pip install langchain_huggingface\n",
    "!pip install huggingface_hub"
   ]
  },
  {
   "cell_type": "code",
   "execution_count": 15,
   "metadata": {},
   "outputs": [
    {
     "data": {
      "text/plain": [
       "True"
      ]
     },
     "execution_count": 15,
     "metadata": {},
     "output_type": "execute_result"
    }
   ],
   "source": [
    "import os\n",
    "from dotenv import load_dotenv\n",
    "load_dotenv()"
   ]
  },
  {
   "cell_type": "markdown",
   "metadata": {},
   "source": [
    "### HuggingFaceEndpoint\n",
    "#### How to Access HuggingFace Models with API\n",
    "There are also two ways to use this class. You can specify the model with the repo_id parameter. Those endpoints use the serverless API, which is particularly beneficial to people using pro accounts or enterprise hub. Still, regular users can already have access to a fair amount of request by connecting with their HF token in the environment where they are executing the code."
   ]
  },
  {
   "cell_type": "code",
   "execution_count": 16,
   "metadata": {},
   "outputs": [],
   "source": [
    "from langchain_huggingface import HuggingFaceEndpoint\n"
   ]
  },
  {
   "cell_type": "code",
   "execution_count": null,
   "metadata": {},
   "outputs": [],
   "source": [
    "repo_id=\"mistralai/Mistral-7B-Instruct-v0.3\"\n",
    "llm=HuggingFaceEndpoint(repo_id=repo_id,max_length=150,temperature=0.7,token=os.getenv(\"hf_token\"))\n",
    "llm"
   ]
  },
  {
   "cell_type": "code",
   "execution_count": 18,
   "metadata": {},
   "outputs": [
    {
     "data": {
      "text/plain": [
       "'?\\n\\nMachine learning is a subset of artificial intelligence that provides systems the ability to automatically learn and improve from experience without being explicitly programmed. Machine learning focuses on the development of computer programs that can access data and use it to learn for themselves.\\n\\nThe process of learning begins with observations or data, such as examples, direct experience, or instruction, in order to look for patterns in data and make better decisions in the future based on the examples that we provide. The primary aim is to allow the computers to learn automatically without human intervention or assistance and adjust actions accordingly.\\n\\nMachine learning can be categorized into three types:\\n\\n- Supervised Learning: It involves the use of labeled data, where the desired output is known. The goal is to learn a mapping between the input and output variables, so that given a new input, the model can predict the output.\\n- Unsupervised Learning: It is the process of learning without labeled data. The goal is to find the hidden pattern or structure within the data.\\n- Reinforcement Learning: It is a type of machine learning where an agent learns to make decisions by taking actions in an environment to maximize a reward or minimize a cost.\\n\\nMachine learning is used in a wide range of applications, including image recognition, speech recognition, natural language processing, and recommendation systems.\\n\\nMachine learning is a powerful tool for solving complex problems and making predictions, but it requires a large amount of data, computational resources, and expertise to implement. It is an active area of research with many ongoing developments and advancements.'"
      ]
     },
     "execution_count": 18,
     "metadata": {},
     "output_type": "execute_result"
    }
   ],
   "source": [
    "llm.invoke(\"What is machine learning\")"
   ]
  },
  {
   "cell_type": "code",
   "execution_count": 19,
   "metadata": {},
   "outputs": [
    {
     "data": {
      "text/plain": [
       "'❓\\n\\nGenerative AI refers to a type of artificial intelligence that can create new content, such as images, music, or text, based on patterns learned from existing data. Generative AI models use techniques such as deep learning, neural networks, and reinforcement learning to generate new content that is similar to, but not identical to, the data they were trained on. Some examples of generative AI include deepfakes, AI-generated art, and AI-written stories.\\n\\nGenerative AI has a wide range of potential applications, including creating personalized content for users, generating new ideas for designers and creators, and automating tasks such as data entry and content creation. However, generative AI also raises ethical concerns, such as the potential for misuse in creating deepfakes or generating offensive or harmful content. It is important for developers and users of generative AI to be aware of these potential risks and to take steps to mitigate them.'"
      ]
     },
     "execution_count": 19,
     "metadata": {},
     "output_type": "execute_result"
    }
   ],
   "source": [
    "llm.invoke(\"What is generative AI \")"
   ]
  },
  {
   "cell_type": "code",
   "execution_count": null,
   "metadata": {},
   "outputs": [],
   "source": [
    "repo_id=\"google/gemma-2-9b\"\n",
    "llm=HuggingFaceEndpoint(repo_id=repo_id,max_length=150,temperature=0.7,token=os.getenv(\"put hf token\"))\n",
    "llm"
   ]
  },
  {
   "cell_type": "code",
   "execution_count": null,
   "metadata": {},
   "outputs": [],
   "source": [
    "llm.invoke(\"What is machine learning\")"
   ]
  },
  {
   "cell_type": "code",
   "execution_count": null,
   "metadata": {},
   "outputs": [],
   "source": [
    "#got this error\n",
    "# 403 Forbidden: None.\n",
    "# Cannot access content at: https://api-inference.huggingface.co/models/google/gemma-2-9b.\n",
    "# If you are trying to create or update content,make sure you have a token with the `write` role.\n",
    "# The model google/gemma-2-9b is too large to be loaded automatically (36GB > 10GB). Please use Spaces (https://huggingface.co/spaces) or Inference Endpoints (https://huggingface.co/inference-endpoints).\n",
    "# Output is truncated. View as a scrollable element or open in a text editor. Adjust cell output settings..."
   ]
  },
  {
   "cell_type": "code",
   "execution_count": null,
   "metadata": {},
   "outputs": [],
   "source": [
    "repo_id=\"mistralai/Mistral-7B-Instruct-v0.3\"\n",
    "llm=HuggingFaceEndpoint(repo_id=repo_id,max_length=150,temperature=0.7,token=os.getenv(\"HF_TOKEN\"))\n",
    "llm"
   ]
  },
  {
   "cell_type": "code",
   "execution_count": 24,
   "metadata": {},
   "outputs": [
    {
     "name": "stdout",
     "output_type": "stream",
     "text": [
      "input_variables=['question'] template='\\nQuestion:{question}\\nAnswer:Lets think step by step.\\n'\n"
     ]
    }
   ],
   "source": [
    "from langchain import PromptTemplate,LLMChain\n",
    "template=\"\"\"\n",
    "Question:{question}\n",
    "Answer:Lets think step by step.\n",
    "\"\"\"\n",
    "prompt=PromptTemplate(template=template,input_variables=[\"question\"])\n",
    "print(prompt)"
   ]
  },
  {
   "cell_type": "code",
   "execution_count": 26,
   "metadata": {},
   "outputs": [
    {
     "data": {
      "text/plain": [
       "\"? India\\n\\nThe 2011 Cricket World Cup was the 10th Cricket World Cup, and was held in the Indian subcontinent from 19 February to 2 April 2011. The final was played at the Wankhede Stadium in Mumbai, India on 2 April 2011. The tournament was won by India, who defeated Sri Lanka by six wickets with 10 balls remaining. It was India's second World Cup title, and their first since the 1983 World Cup.\\n\\nThe tournament was co-hosted by India, Bangladesh and Sri Lanka, making it the first time that the tournament had been held in three countries. The final was the first time the World Cup final had been held in India. The tournament was also notable for being the first World Cup to feature all ten Test-playing nations, as well as the Associate members Afghanistan and Ireland.\\n\\nThe tournament was won by India, who defeated Sri Lanka by six wickets with 10 balls remaining in the final. It was India's second World Cup title, and their first since the 1983 World Cup. The final was the first time the World Cup final had been held in India.\\n\\nThe tournament was co-hosted by India, Bangladesh and Sri Lanka, making it the first time that the tournament had been held in three countries. The final was the first time the World Cup final had been held in India. The tournament was also notable for being the first World Cup to feature all ten Test-playing nations, as well as the Associate members Afghanistan and Ireland.\\n\\nThe final was a thrilling match, with India chasing a target of 275 set by Sri Lanka. The match went down to the wire, with India requiring 24 runs off the final two overs. Captain Mahendra Singh Dhoni hit a six off the final ball of the penultimate over to bring the required run rate down to 12 runs off the final six balls. Dhoni then hit a four off the first ball of the final over, before hitting a six off the second ball to put India within striking distance of victory.\\n\\nIndia won the match with six wickets and 10 balls remaining, with Dhoni being named the Player of the Match for his unbeaten 91 off \""
      ]
     },
     "execution_count": 26,
     "metadata": {},
     "output_type": "execute_result"
    }
   ],
   "source": [
    "llm_chain=LLMChain(llm=llm,prompt=prompt)\n",
    "llm.invoke(\"Who won the cricket World up 2011\")"
   ]
  }
 ],
 "metadata": {
  "kernelspec": {
   "display_name": "Python 3",
   "language": "python",
   "name": "python3"
  },
  "language_info": {
   "codemirror_mode": {
    "name": "ipython",
    "version": 3
   },
   "file_extension": ".py",
   "mimetype": "text/x-python",
   "name": "python",
   "nbconvert_exporter": "python",
   "pygments_lexer": "ipython3",
   "version": "3.10.0"
  }
 },
 "nbformat": 4,
 "nbformat_minor": 2
}
